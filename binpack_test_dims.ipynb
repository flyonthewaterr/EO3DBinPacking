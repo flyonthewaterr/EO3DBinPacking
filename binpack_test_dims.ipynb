{
 "cells": [
  {
   "cell_type": "markdown",
   "id": "205cc9f3",
   "metadata": {},
   "source": [
    "**导入**"
   ]
  },
  {
   "cell_type": "code",
   "execution_count": 1,
   "id": "386cf76b",
   "metadata": {},
   "outputs": [],
   "source": [
    "import sys\n",
    "\n",
    "sys.path.append(\"src/\")"
   ]
  },
  {
   "cell_type": "code",
   "execution_count": 2,
   "id": "6d08273b",
   "metadata": {},
   "outputs": [],
   "source": [
    "import os\n",
    "from collections import namedtuple\n",
    "from time import time\n",
    "\n",
    "import numpy as np\n",
    "import pandas as pd\n",
    "import seaborn as sns\n",
    "from ortools.sat.python import cp_model\n",
    "from matplotlib import pyplot as plt\n",
    "from tqdm import tqdm\n",
    "\n",
    "import config, dataset, main, utils, bins"
   ]
  },
  {
   "cell_type": "code",
   "execution_count": 3,
   "id": "62baba3b",
   "metadata": {},
   "outputs": [
    {
     "data": {
      "application/javascript": [
       "\n",
       "            setTimeout(function() {\n",
       "                var nbb_cell_id = 3;\n",
       "                var nbb_unformatted_code = \"%matplotlib notebook\\n%load_ext autoreload\\n%load_ext nb_black\\n%autoreload 2\";\n",
       "                var nbb_formatted_code = \"%matplotlib notebook\\n%load_ext autoreload\\n%load_ext nb_black\\n%autoreload 2\";\n",
       "                var nbb_cells = Jupyter.notebook.get_cells();\n",
       "                for (var i = 0; i < nbb_cells.length; ++i) {\n",
       "                    if (nbb_cells[i].input_prompt_number == nbb_cell_id) {\n",
       "                        if (nbb_cells[i].get_text() == nbb_unformatted_code) {\n",
       "                             nbb_cells[i].set_text(nbb_formatted_code);\n",
       "                        }\n",
       "                        break;\n",
       "                    }\n",
       "                }\n",
       "            }, 500);\n",
       "            "
      ],
      "text/plain": [
       "<IPython.core.display.Javascript object>"
      ]
     },
     "metadata": {},
     "output_type": "display_data"
    }
   ],
   "source": [
    "%matplotlib notebook\n",
    "%load_ext autoreload\n",
    "%load_ext nb_black\n",
    "%autoreload 2"
   ]
  },
  {
   "cell_type": "code",
   "execution_count": 4,
   "id": "06c691f7",
   "metadata": {},
   "outputs": [
    {
     "name": "stderr",
     "output_type": "stream",
     "text": [
      "C:\\Users\\12605\\AppData\\Local\\Temp\\ipykernel_7484\\3634308497.py:1: MatplotlibDeprecationWarning: The seaborn styles shipped by Matplotlib are deprecated since 3.6, as they no longer correspond to the styles shipped by seaborn. However, they will remain available as 'seaborn-v0_8-<style>'. Alternatively, directly use the seaborn API instead.\n",
      "  plt.style.use(\"seaborn\")\n"
     ]
    },
    {
     "data": {
      "application/javascript": [
       "\n",
       "            setTimeout(function() {\n",
       "                var nbb_cell_id = 4;\n",
       "                var nbb_unformatted_code = \"plt.style.use(\\\"seaborn\\\")\\nnp.random.seed(config.RANDOM_SEED)\";\n",
       "                var nbb_formatted_code = \"plt.style.use(\\\"seaborn\\\")\\nnp.random.seed(config.RANDOM_SEED)\";\n",
       "                var nbb_cells = Jupyter.notebook.get_cells();\n",
       "                for (var i = 0; i < nbb_cells.length; ++i) {\n",
       "                    if (nbb_cells[i].input_prompt_number == nbb_cell_id) {\n",
       "                        if (nbb_cells[i].get_text() == nbb_unformatted_code) {\n",
       "                             nbb_cells[i].set_text(nbb_formatted_code);\n",
       "                        }\n",
       "                        break;\n",
       "                    }\n",
       "                }\n",
       "            }, 500);\n",
       "            "
      ],
      "text/plain": [
       "<IPython.core.display.Javascript object>"
      ]
     },
     "metadata": {},
     "output_type": "display_data"
    }
   ],
   "source": [
    "plt.style.use(\"seaborn\")\n",
    "np.random.seed(config.RANDOM_SEED)"
   ]
  },
  {
   "cell_type": "markdown",
   "id": "bae63cee",
   "metadata": {},
   "source": [
    "*初始维度对应平行*"
   ]
  },
  {
   "cell_type": "markdown",
   "id": "de36aaff",
   "metadata": {},
   "source": [
    "**数据读取**"
   ]
  },
  {
   "cell_type": "code",
   "execution_count": 5,
   "id": "ce693ccd",
   "metadata": {},
   "outputs": [
    {
     "data": {
      "text/html": [
       "<div>\n",
       "<style scoped>\n",
       "    .dataframe tbody tr th:only-of-type {\n",
       "        vertical-align: middle;\n",
       "    }\n",
       "\n",
       "    .dataframe tbody tr th {\n",
       "        vertical-align: top;\n",
       "    }\n",
       "\n",
       "    .dataframe thead th {\n",
       "        text-align: right;\n",
       "    }\n",
       "</style>\n",
       "<table border=\"1\" class=\"dataframe\">\n",
       "  <thead>\n",
       "    <tr style=\"text-align: right;\">\n",
       "      <th></th>\n",
       "      <th>id</th>\n",
       "      <th>width</th>\n",
       "      <th>depth</th>\n",
       "      <th>height</th>\n",
       "      <th>weight</th>\n",
       "      <th>volume</th>\n",
       "    </tr>\n",
       "  </thead>\n",
       "  <tbody>\n",
       "    <tr>\n",
       "      <th>0</th>\n",
       "      <td>3.034854e+11</td>\n",
       "      <td>430.0</td>\n",
       "      <td>350.0</td>\n",
       "      <td>430.0</td>\n",
       "      <td>50.248611</td>\n",
       "      <td>60200000.0</td>\n",
       "    </tr>\n",
       "    <tr>\n",
       "      <th>1</th>\n",
       "      <td>3.034854e+11</td>\n",
       "      <td>430.0</td>\n",
       "      <td>350.0</td>\n",
       "      <td>430.0</td>\n",
       "      <td>50.248611</td>\n",
       "      <td>60200000.0</td>\n",
       "    </tr>\n",
       "    <tr>\n",
       "      <th>2</th>\n",
       "      <td>3.034854e+11</td>\n",
       "      <td>430.0</td>\n",
       "      <td>350.0</td>\n",
       "      <td>430.0</td>\n",
       "      <td>50.248611</td>\n",
       "      <td>60200000.0</td>\n",
       "    </tr>\n",
       "    <tr>\n",
       "      <th>3</th>\n",
       "      <td>3.034854e+11</td>\n",
       "      <td>430.0</td>\n",
       "      <td>350.0</td>\n",
       "      <td>430.0</td>\n",
       "      <td>50.248611</td>\n",
       "      <td>60200000.0</td>\n",
       "    </tr>\n",
       "    <tr>\n",
       "      <th>4</th>\n",
       "      <td>3.034854e+11</td>\n",
       "      <td>430.0</td>\n",
       "      <td>350.0</td>\n",
       "      <td>430.0</td>\n",
       "      <td>50.248611</td>\n",
       "      <td>60200000.0</td>\n",
       "    </tr>\n",
       "  </tbody>\n",
       "</table>\n",
       "</div>"
      ],
      "text/plain": [
       "             id  width  depth  height     weight      volume\n",
       "0  3.034854e+11  430.0  350.0   430.0  50.248611  60200000.0\n",
       "1  3.034854e+11  430.0  350.0   430.0  50.248611  60200000.0\n",
       "2  3.034854e+11  430.0  350.0   430.0  50.248611  60200000.0\n",
       "3  3.034854e+11  430.0  350.0   430.0  50.248611  60200000.0\n",
       "4  3.034854e+11  430.0  350.0   430.0  50.248611  60200000.0"
      ]
     },
     "execution_count": 5,
     "metadata": {},
     "output_type": "execute_result"
    },
    {
     "data": {
      "application/javascript": [
       "\n",
       "            setTimeout(function() {\n",
       "                var nbb_cell_id = 5;\n",
       "                var nbb_unformatted_code = \"instance1_para = pd.read_csv(\\\"mydf1_para.csv\\\")  # \\u8d27\\u7bb1\\u7684\\u521d\\u59cb\\u7ef4\\u5ea6\\uff1a\\u6700\\u957f\\u8fb9\\u4e0e\\u6258\\u76d8\\u9ad8\\u5e73\\u884c\\uff0c\\u6b21\\u957f\\u8fb9\\u4e0e\\u6258\\u76d8\\u957f\\u5e73\\u884c\\uff0c\\u6700\\u77ed\\u8fb9\\u4e0e\\u6258\\u76d8\\u5bbd\\u5e73\\u884c\\n\\ninstance1_para.head()\";\n",
       "                var nbb_formatted_code = \"instance1_para = pd.read_csv(\\\"mydf1_para.csv\\\")  # \\u8d27\\u7bb1\\u7684\\u521d\\u59cb\\u7ef4\\u5ea6\\uff1a\\u6700\\u957f\\u8fb9\\u4e0e\\u6258\\u76d8\\u9ad8\\u5e73\\u884c\\uff0c\\u6b21\\u957f\\u8fb9\\u4e0e\\u6258\\u76d8\\u957f\\u5e73\\u884c\\uff0c\\u6700\\u77ed\\u8fb9\\u4e0e\\u6258\\u76d8\\u5bbd\\u5e73\\u884c\\n\\ninstance1_para.head()\";\n",
       "                var nbb_cells = Jupyter.notebook.get_cells();\n",
       "                for (var i = 0; i < nbb_cells.length; ++i) {\n",
       "                    if (nbb_cells[i].input_prompt_number == nbb_cell_id) {\n",
       "                        if (nbb_cells[i].get_text() == nbb_unformatted_code) {\n",
       "                             nbb_cells[i].set_text(nbb_formatted_code);\n",
       "                        }\n",
       "                        break;\n",
       "                    }\n",
       "                }\n",
       "            }, 500);\n",
       "            "
      ],
      "text/plain": [
       "<IPython.core.display.Javascript object>"
      ]
     },
     "metadata": {},
     "output_type": "display_data"
    }
   ],
   "source": [
    "instance1_para = pd.read_csv(\"mydf1_para.csv\")  # 货箱的初始维度：最长边与托盘高平行，次长边与托盘长平行，最短边与托盘宽平行\n",
    "\n",
    "instance1_para.head()"
   ]
  },
  {
   "cell_type": "code",
   "execution_count": 6,
   "id": "95aca9f8",
   "metadata": {},
   "outputs": [
    {
     "data": {
      "text/html": [
       "<div>\n",
       "<style scoped>\n",
       "    .dataframe tbody tr th:only-of-type {\n",
       "        vertical-align: middle;\n",
       "    }\n",
       "\n",
       "    .dataframe tbody tr th {\n",
       "        vertical-align: top;\n",
       "    }\n",
       "\n",
       "    .dataframe thead th {\n",
       "        text-align: right;\n",
       "    }\n",
       "</style>\n",
       "<table border=\"1\" class=\"dataframe\">\n",
       "  <thead>\n",
       "    <tr style=\"text-align: right;\">\n",
       "      <th></th>\n",
       "      <th>id</th>\n",
       "      <th>width</th>\n",
       "      <th>depth</th>\n",
       "      <th>height</th>\n",
       "      <th>weight</th>\n",
       "      <th>volume</th>\n",
       "    </tr>\n",
       "  </thead>\n",
       "  <tbody>\n",
       "    <tr>\n",
       "      <th>0</th>\n",
       "      <td>303485406111</td>\n",
       "      <td>350.0</td>\n",
       "      <td>430.0</td>\n",
       "      <td>400.0</td>\n",
       "      <td>50.248611</td>\n",
       "      <td>60200000.0</td>\n",
       "    </tr>\n",
       "    <tr>\n",
       "      <th>1</th>\n",
       "      <td>303485406111</td>\n",
       "      <td>350.0</td>\n",
       "      <td>430.0</td>\n",
       "      <td>400.0</td>\n",
       "      <td>50.248611</td>\n",
       "      <td>60200000.0</td>\n",
       "    </tr>\n",
       "    <tr>\n",
       "      <th>2</th>\n",
       "      <td>303485406111</td>\n",
       "      <td>350.0</td>\n",
       "      <td>430.0</td>\n",
       "      <td>400.0</td>\n",
       "      <td>50.248611</td>\n",
       "      <td>60200000.0</td>\n",
       "    </tr>\n",
       "    <tr>\n",
       "      <th>3</th>\n",
       "      <td>303485406111</td>\n",
       "      <td>350.0</td>\n",
       "      <td>430.0</td>\n",
       "      <td>400.0</td>\n",
       "      <td>50.248611</td>\n",
       "      <td>60200000.0</td>\n",
       "    </tr>\n",
       "    <tr>\n",
       "      <th>4</th>\n",
       "      <td>303485406111</td>\n",
       "      <td>350.0</td>\n",
       "      <td>430.0</td>\n",
       "      <td>400.0</td>\n",
       "      <td>50.248611</td>\n",
       "      <td>60200000.0</td>\n",
       "    </tr>\n",
       "  </tbody>\n",
       "</table>\n",
       "</div>"
      ],
      "text/plain": [
       "             id  width  depth  height     weight      volume\n",
       "0  303485406111  350.0  430.0   400.0  50.248611  60200000.0\n",
       "1  303485406111  350.0  430.0   400.0  50.248611  60200000.0\n",
       "2  303485406111  350.0  430.0   400.0  50.248611  60200000.0\n",
       "3  303485406111  350.0  430.0   400.0  50.248611  60200000.0\n",
       "4  303485406111  350.0  430.0   400.0  50.248611  60200000.0"
      ]
     },
     "execution_count": 6,
     "metadata": {},
     "output_type": "execute_result"
    },
    {
     "data": {
      "application/javascript": [
       "\n",
       "            setTimeout(function() {\n",
       "                var nbb_cell_id = 6;\n",
       "                var nbb_unformatted_code = \"instance1 = pd.read_csv(\\\"mydf1.csv\\\")  # \\u5206\\u5e03\\u7b26\\u5408\\u521d\\u59cb\\u7ef4\\u5ea6\\u8f83\\u597d\\u53c2\\u6570\\n\\ninstance1.head()\";\n",
       "                var nbb_formatted_code = \"instance1 = pd.read_csv(\\\"mydf1.csv\\\")  # \\u5206\\u5e03\\u7b26\\u5408\\u521d\\u59cb\\u7ef4\\u5ea6\\u8f83\\u597d\\u53c2\\u6570\\n\\ninstance1.head()\";\n",
       "                var nbb_cells = Jupyter.notebook.get_cells();\n",
       "                for (var i = 0; i < nbb_cells.length; ++i) {\n",
       "                    if (nbb_cells[i].input_prompt_number == nbb_cell_id) {\n",
       "                        if (nbb_cells[i].get_text() == nbb_unformatted_code) {\n",
       "                             nbb_cells[i].set_text(nbb_formatted_code);\n",
       "                        }\n",
       "                        break;\n",
       "                    }\n",
       "                }\n",
       "            }, 500);\n",
       "            "
      ],
      "text/plain": [
       "<IPython.core.display.Javascript object>"
      ]
     },
     "metadata": {},
     "output_type": "display_data"
    }
   ],
   "source": [
    "instance1 = pd.read_csv(\"mydf1.csv\")  # 分布符合初始维度较好参数\n",
    "\n",
    "instance1.head()"
   ]
  },
  {
   "cell_type": "markdown",
   "id": "080f90f2",
   "metadata": {},
   "source": [
    "*分布符合初始维度较好参数*"
   ]
  },
  {
   "cell_type": "code",
   "execution_count": null,
   "id": "10ff6c82",
   "metadata": {},
   "outputs": [],
   "source": [
    "plt.figure()\n",
    "axH = sns.histplot(\n",
    "    instance1.height / instance1.width,\n",
    "    bins=np.arange(0, 2, 0.05),\n",
    ")\n",
    "axH.set(xlabel=\"HEIGHT-LENGTH RATIO\")\n",
    "plt.show()"
   ]
  },
  {
   "cell_type": "code",
   "execution_count": null,
   "id": "5ec234c0",
   "metadata": {},
   "outputs": [],
   "source": [
    "plt.figure()\n",
    "axW = sns.histplot(\n",
    "    instance1.depth / instance1.width,\n",
    "    bins=np.arange(0, 2, 0.05),\n",
    ")\n",
    "axW.set(xlabel=\"WIDTH-LENGTH RATIO\")\n",
    "plt.show()"
   ]
  },
  {
   "cell_type": "code",
   "execution_count": null,
   "id": "1c6432b3",
   "metadata": {},
   "outputs": [],
   "source": [
    "plt.figure()\n",
    "axV = sns.histplot(instance1.volume / 1e6, bins=np.arange(20, 100, 2))\n",
    "axV.set(xlabel=\"VOLUME(dm3)\")\n",
    "plt.show()"
   ]
  },
  {
   "cell_type": "code",
   "execution_count": null,
   "id": "29ce3a60",
   "metadata": {},
   "outputs": [],
   "source": []
  },
  {
   "cell_type": "markdown",
   "id": "33a6ce32",
   "metadata": {},
   "source": [
    "**初始维度对应平行：旋转扰动**"
   ]
  },
  {
   "cell_type": "code",
   "execution_count": null,
   "id": "b5a4f12a",
   "metadata": {},
   "outputs": [],
   "source": []
  },
  {
   "cell_type": "code",
   "execution_count": 7,
   "id": "446f6e42",
   "metadata": {},
   "outputs": [
    {
     "name": "stdout",
     "output_type": "stream",
     "text": [
      "               id  width  depth  height      weight      volume\n",
      "0    7.893258e+10  510.0  320.0   590.0  141.153204  96288000.0\n",
      "1    7.893258e+10  590.0  320.0   510.0  141.153204  96288000.0\n",
      "2    7.893258e+10  510.0  320.0   590.0  141.153204  96288000.0\n",
      "3    7.893258e+10  510.0  320.0   590.0  141.153204  96288000.0\n",
      "4    7.893258e+10  510.0  320.0   590.0  141.153204  96288000.0\n",
      "..            ...    ...    ...     ...         ...         ...\n",
      "199  9.165267e+11  700.0  290.0   490.0    0.157856  99470000.0\n",
      "200  9.165267e+11  490.0  290.0   700.0    0.157856  99470000.0\n",
      "201  9.165267e+11  490.0  290.0   700.0    0.157856  99470000.0\n",
      "202  9.165267e+11  490.0  290.0   700.0    0.157856  99470000.0\n",
      "203  9.165267e+11  490.0  290.0   700.0    0.157856  99470000.0\n",
      "\n",
      "[204 rows x 6 columns]\n"
     ]
    },
    {
     "data": {
      "application/javascript": [
       "\n",
       "            setTimeout(function() {\n",
       "                var nbb_cell_id = 7;\n",
       "                var nbb_unformatted_code = \"def swap_values(group):\\n    n_samples = int(\\n        len(group) * 0.3\\n    )  # calculate number of samples based on 30% threshold\\n    idx_samples = group.sample(n_samples).index  # select random indices from the group\\n    group.loc[idx_samples, [\\\"width\\\", \\\"height\\\"]] = group.loc[\\n        idx_samples, [\\\"height\\\", \\\"width\\\"]\\n    ].values  # exchange values of selected items\\n    return group\\n\\n\\n# group the data by `id` column and apply the `swap_values()` function\\ninstance1_para_ry3_g = instance1_para.groupby(\\\"id\\\").apply(swap_values)\\ninstance1_para_ry3 = instance1_para_ry3_g.reset_index(drop=True)\\n\\n# print the results\\nprint(instance1_para_ry3)\";\n",
       "                var nbb_formatted_code = \"def swap_values(group):\\n    n_samples = int(\\n        len(group) * 0.3\\n    )  # calculate number of samples based on 30% threshold\\n    idx_samples = group.sample(n_samples).index  # select random indices from the group\\n    group.loc[idx_samples, [\\\"width\\\", \\\"height\\\"]] = group.loc[\\n        idx_samples, [\\\"height\\\", \\\"width\\\"]\\n    ].values  # exchange values of selected items\\n    return group\\n\\n\\n# group the data by `id` column and apply the `swap_values()` function\\ninstance1_para_ry3_g = instance1_para.groupby(\\\"id\\\").apply(swap_values)\\ninstance1_para_ry3 = instance1_para_ry3_g.reset_index(drop=True)\\n\\n# print the results\\nprint(instance1_para_ry3)\";\n",
       "                var nbb_cells = Jupyter.notebook.get_cells();\n",
       "                for (var i = 0; i < nbb_cells.length; ++i) {\n",
       "                    if (nbb_cells[i].input_prompt_number == nbb_cell_id) {\n",
       "                        if (nbb_cells[i].get_text() == nbb_unformatted_code) {\n",
       "                             nbb_cells[i].set_text(nbb_formatted_code);\n",
       "                        }\n",
       "                        break;\n",
       "                    }\n",
       "                }\n",
       "            }, 500);\n",
       "            "
      ],
      "text/plain": [
       "<IPython.core.display.Javascript object>"
      ]
     },
     "metadata": {},
     "output_type": "display_data"
    }
   ],
   "source": [
    "def swap_values(group):\n",
    "    n_samples = int(\n",
    "        len(group) * 0.3\n",
    "    )  # calculate number of samples based on 30% threshold\n",
    "    idx_samples = group.sample(n_samples).index  # select random indices from the group\n",
    "    group.loc[idx_samples, [\"width\", \"height\"]] = group.loc[\n",
    "        idx_samples, [\"height\", \"width\"]\n",
    "    ].values  # exchange values of selected items\n",
    "    return group\n",
    "\n",
    "\n",
    "# group the data by `id` column and apply the `swap_values()` function\n",
    "instance1_para_ry3_g = instance1_para.groupby(\"id\").apply(swap_values)\n",
    "instance1_para_ry3 = instance1_para_ry3_g.reset_index(drop=True)\n",
    "\n",
    "# print the results\n",
    "print(instance1_para_ry3)"
   ]
  },
  {
   "cell_type": "code",
   "execution_count": null,
   "id": "1fabc8ed",
   "metadata": {},
   "outputs": [],
   "source": []
  },
  {
   "cell_type": "markdown",
   "id": "6b5916f3",
   "metadata": {},
   "source": [
    "**初始维度对应平行：装箱运算**"
   ]
  },
  {
   "cell_type": "code",
   "execution_count": null,
   "id": "fed4fc86",
   "metadata": {},
   "outputs": [],
   "source": []
  },
  {
   "cell_type": "code",
   "execution_count": 8,
   "id": "4efe0494",
   "metadata": {},
   "outputs": [
    {
     "name": "stderr",
     "output_type": "stream",
     "text": [
      "\u001b[32m2023-05-26 14:36:23.652\u001b[0m | \u001b[1mINFO    \u001b[0m | \u001b[36mmain\u001b[0m:\u001b[36mmain\u001b[0m:\u001b[36m174\u001b[0m - \u001b[1mMR procedure starting\u001b[0m\n",
      "\u001b[32m2023-05-26 14:36:23.653\u001b[0m | \u001b[1mINFO    \u001b[0m | \u001b[36mmain\u001b[0m:\u001b[36mmain\u001b[0m:\u001b[36m184\u001b[0m - \u001b[1mMR iteration 1/1\u001b[0m\n",
      "\u001b[32m2023-05-26 14:36:23.680\u001b[0m | \u001b[34m\u001b[1mDEBUG   \u001b[0m | \u001b[36msuperitems\u001b[0m:\u001b[36m_gen_single_items_superitems\u001b[0m:\u001b[36m674\u001b[0m - \u001b[34m\u001b[1mGenerated 204 superitems with a single item\u001b[0m\n",
      "\u001b[32m2023-05-26 14:36:23.681\u001b[0m | \u001b[1mINFO    \u001b[0m | \u001b[36msuperitems\u001b[0m:\u001b[36mgen_superitems\u001b[0m:\u001b[36m629\u001b[0m - \u001b[1mGenerating vertical superitems with maximum stacking of 2\u001b[0m\n",
      "\u001b[32m2023-05-26 14:36:23.689\u001b[0m | \u001b[34m\u001b[1mDEBUG   \u001b[0m | \u001b[36msuperitems\u001b[0m:\u001b[36m_gen_superitems_vertical\u001b[0m:\u001b[36m833\u001b[0m - \u001b[34m\u001b[1mGenerated 102 wide vertical superitems\u001b[0m\n",
      "\u001b[32m2023-05-26 14:36:23.691\u001b[0m | \u001b[34m\u001b[1mDEBUG   \u001b[0m | \u001b[36msuperitems\u001b[0m:\u001b[36m_gen_superitems_vertical\u001b[0m:\u001b[36m835\u001b[0m - \u001b[34m\u001b[1mGenerated 0 deep vertical superitems\u001b[0m\n",
      "\u001b[32m2023-05-26 14:36:23.692\u001b[0m | \u001b[1mINFO    \u001b[0m | \u001b[36msuperitems\u001b[0m:\u001b[36mgen_superitems\u001b[0m:\u001b[36m633\u001b[0m - \u001b[1mGenerated 306 superitems\u001b[0m\n",
      "\u001b[32m2023-05-26 14:36:23.696\u001b[0m | \u001b[1mINFO    \u001b[0m | \u001b[36msuperitems\u001b[0m:\u001b[36mgen_superitems\u001b[0m:\u001b[36m635\u001b[0m - \u001b[1mRemaining superitems after filtering by pallet dimensions: 306\u001b[0m\n",
      "\u001b[32m2023-05-26 14:36:23.701\u001b[0m | \u001b[1mINFO    \u001b[0m | \u001b[36mmain\u001b[0m:\u001b[36mmaxrects_warm_start\u001b[0m:\u001b[36m44\u001b[0m - \u001b[1mMR computing layers\u001b[0m\n",
      "\u001b[32m2023-05-26 14:36:23.702\u001b[0m | \u001b[1mINFO    \u001b[0m | \u001b[36mmain\u001b[0m:\u001b[36mmaxrects_warm_start\u001b[0m:\u001b[36m64\u001b[0m - \u001b[1mMR processing height group 1/1\u001b[0m\n",
      "\u001b[32m2023-05-26 14:36:23.704\u001b[0m | \u001b[34m\u001b[1mDEBUG   \u001b[0m | \u001b[36mmaxrects\u001b[0m:\u001b[36mmaxrects_multiple_layers\u001b[0m:\u001b[36m17\u001b[0m - \u001b[34m\u001b[1mMR-ML-Offline starting\u001b[0m\n",
      "\u001b[32m2023-05-26 14:36:23.705\u001b[0m | \u001b[34m\u001b[1mDEBUG   \u001b[0m | \u001b[36mmaxrects\u001b[0m:\u001b[36mmaxrects_multiple_layers\u001b[0m:\u001b[36m18\u001b[0m - \u001b[34m\u001b[1mMR-ML-Offline not_used as warm_start\u001b[0m\n",
      "\u001b[32m2023-05-26 14:36:23.706\u001b[0m | \u001b[34m\u001b[1mDEBUG   \u001b[0m | \u001b[36mmaxrects\u001b[0m:\u001b[36mmaxrects_multiple_layers\u001b[0m:\u001b[36m19\u001b[0m - \u001b[34m\u001b[1mMR-ML-Offline 306 superitems to place\u001b[0m\n",
      "\u001b[32m2023-05-26 14:36:26.118\u001b[0m | \u001b[34m\u001b[1mDEBUG   \u001b[0m | \u001b[36mmaxrects\u001b[0m:\u001b[36mmaxrects_multiple_layers\u001b[0m:\u001b[36m74\u001b[0m - \u001b[34m\u001b[1mMR-ML-Offline generated 58 layers with 3D densities [0.7912698412698412, 0.7881198736341768, 0.7808941780105896, 0.7427711599957492, 0.7410962410413924, 0.7395120602667773, 0.7304872040112455, 0.7063278141445257, 0.7063278141445257, 0.7063278141445257, 0.6984020023103581, 0.696808973132771, 0.6888289907157832, 0.6844318230436829, 0.6841772558079836, 0.6725131562058786, 0.6636610619090404, 0.6620266974714414, 0.6620266974714414, 0.6620266974714414, 0.6620266974714414, 0.6433416762931587, 0.6393706171207061, 0.6383647798742138, 0.6349612801095281, 0.6315577803448423, 0.6307567457902211, 0.6281542805801565, 0.6247507808154709, 0.618524579643178, 0.6179605519673159, 0.6088245116046085, 0.5991742608993282, 0.5991742608993282, 0.5970785149117468, 0.583322637230993, 0.5808753690155307, 0.5750224618149147, 0.5708873486501519, 0.5647045184476712, 0.5223925297144109, 0.5178197064989518, 0.4997636480669429, 0.4997636480669429, 0.49364252412689474, 0.49364252412689474, 0.4814002762467984, 0.47830407058001395, 0.47476896418944936, 0.4481925502764703, 0.3912848158131177, 0.3912848158131177, 0.3912848158131177, 0.3912848158131177, 0.3912848158131177, 0.3912848158131177, 0.34583484196269326, 0.34583484196269326]\u001b[0m\n",
      "\u001b[32m2023-05-26 14:36:26.119\u001b[0m | \u001b[34m\u001b[1mDEBUG   \u001b[0m | \u001b[36mmaxrects\u001b[0m:\u001b[36mmaxrects_multiple_layers\u001b[0m:\u001b[36m77\u001b[0m - \u001b[34m\u001b[1mMR-ML-Offline placed 306/306 superitems\u001b[0m\n",
      "\u001b[32m2023-05-26 14:36:26.130\u001b[0m | \u001b[1mINFO    \u001b[0m | \u001b[36mmain\u001b[0m:\u001b[36mmaxrects_warm_start\u001b[0m:\u001b[36m69\u001b[0m - \u001b[1mMR generated 58 layers\u001b[0m\n",
      "\u001b[32m2023-05-26 14:36:26.131\u001b[0m | \u001b[1mINFO    \u001b[0m | \u001b[36mlayers\u001b[0m:\u001b[36mfilter_layers\u001b[0m:\u001b[36m495\u001b[0m - \u001b[1mFiltering 58 generated layers\u001b[0m\n",
      "\u001b[32m2023-05-26 14:36:26.140\u001b[0m | \u001b[34m\u001b[1mDEBUG   \u001b[0m | \u001b[36mlayers\u001b[0m:\u001b[36mfilter_layers\u001b[0m:\u001b[36m497\u001b[0m - \u001b[34m\u001b[1mRemaining 42 layers after discarding by 0.5 density\u001b[0m\n",
      "\u001b[32m2023-05-26 14:36:26.152\u001b[0m | \u001b[34m\u001b[1mDEBUG   \u001b[0m | \u001b[36mlayers\u001b[0m:\u001b[36mfilter_layers\u001b[0m:\u001b[36m501\u001b[0m - \u001b[34m\u001b[1mRemaining 19 layers after discarding by coverage (all: 3, single: 3)\u001b[0m\n",
      "\u001b[32m2023-05-26 14:36:26.197\u001b[0m | \u001b[34m\u001b[1mDEBUG   \u001b[0m | \u001b[36mmaxrects\u001b[0m:\u001b[36mmaxrects_single_layer_offline\u001b[0m:\u001b[36m88\u001b[0m - \u001b[34m\u001b[1mMR-SL-Offline starting\u001b[0m\n",
      "\u001b[32m2023-05-26 14:36:26.199\u001b[0m | \u001b[34m\u001b[1mDEBUG   \u001b[0m | \u001b[36mmaxrects\u001b[0m:\u001b[36mmaxrects_single_layer_offline\u001b[0m:\u001b[36m94\u001b[0m - \u001b[34m\u001b[1mMR-SL-Offline [0 1 2 3 4 5 6]/7 superitems to place\u001b[0m\n",
      "\u001b[32m2023-05-26 14:36:26.202\u001b[0m | \u001b[34m\u001b[1mDEBUG   \u001b[0m | \u001b[36mmaxrects\u001b[0m:\u001b[36mmaxrects_single_layer_offline\u001b[0m:\u001b[36m124\u001b[0m - \u001b[34m\u001b[1mMR-SL-Offline generated a new layer with 7 superitems and 0.647792982698643 3D density\u001b[0m\n",
      "\u001b[32m2023-05-26 14:36:26.205\u001b[0m | \u001b[34m\u001b[1mDEBUG   \u001b[0m | \u001b[36mmaxrects\u001b[0m:\u001b[36mmaxrects_single_layer_offline\u001b[0m:\u001b[36m88\u001b[0m - \u001b[34m\u001b[1mMR-SL-Offline starting\u001b[0m\n",
      "\u001b[32m2023-05-26 14:36:26.207\u001b[0m | \u001b[34m\u001b[1mDEBUG   \u001b[0m | \u001b[36mmaxrects\u001b[0m:\u001b[36mmaxrects_single_layer_offline\u001b[0m:\u001b[36m94\u001b[0m - \u001b[34m\u001b[1mMR-SL-Offline [0 1 2]/3 superitems to place\u001b[0m\n",
      "\u001b[32m2023-05-26 14:36:26.209\u001b[0m | \u001b[34m\u001b[1mDEBUG   \u001b[0m | \u001b[36mmaxrects\u001b[0m:\u001b[36mmaxrects_single_layer_offline\u001b[0m:\u001b[36m124\u001b[0m - \u001b[34m\u001b[1mMR-SL-Offline generated a new layer with 3 superitems and 0.5166217430368374 3D density\u001b[0m\n",
      "\u001b[32m2023-05-26 14:36:26.211\u001b[0m | \u001b[34m\u001b[1mDEBUG   \u001b[0m | \u001b[36mmaxrects\u001b[0m:\u001b[36mmaxrects_single_layer_offline\u001b[0m:\u001b[36m88\u001b[0m - \u001b[34m\u001b[1mMR-SL-Offline starting\u001b[0m\n",
      "\u001b[32m2023-05-26 14:36:26.212\u001b[0m | \u001b[34m\u001b[1mDEBUG   \u001b[0m | \u001b[36mmaxrects\u001b[0m:\u001b[36mmaxrects_single_layer_offline\u001b[0m:\u001b[36m94\u001b[0m - \u001b[34m\u001b[1mMR-SL-Offline [0 1 2 3 4 5]/6 superitems to place\u001b[0m\n",
      "\u001b[32m2023-05-26 14:36:26.215\u001b[0m | \u001b[34m\u001b[1mDEBUG   \u001b[0m | \u001b[36mmaxrects\u001b[0m:\u001b[36mmaxrects_single_layer_offline\u001b[0m:\u001b[36m124\u001b[0m - \u001b[34m\u001b[1mMR-SL-Offline generated a new layer with 6 superitems and 0.566119026226843 3D density\u001b[0m\n",
      "\u001b[32m2023-05-26 14:36:26.221\u001b[0m | \u001b[34m\u001b[1mDEBUG   \u001b[0m | \u001b[36mlayers\u001b[0m:\u001b[36mfilter_layers\u001b[0m:\u001b[36m506\u001b[0m - \u001b[34m\u001b[1mRemaining 16 layers after removing duplicated items\u001b[0m\n",
      "\u001b[32m2023-05-26 14:36:26.225\u001b[0m | \u001b[34m\u001b[1mDEBUG   \u001b[0m | \u001b[36mlayers\u001b[0m:\u001b[36mfilter_layers\u001b[0m:\u001b[36m508\u001b[0m - \u001b[34m\u001b[1mRemaining 16 layers after removing the empty ones\u001b[0m\n",
      "\u001b[32m2023-05-26 14:36:26.237\u001b[0m | \u001b[1mINFO    \u001b[0m | \u001b[36mmain\u001b[0m:\u001b[36mmain\u001b[0m:\u001b[36m237\u001b[0m - \u001b[1mItems not covered: 84/204\u001b[0m\n",
      "\u001b[32m2023-05-26 14:36:26.424\u001b[0m | \u001b[34m\u001b[1mDEBUG   \u001b[0m | \u001b[36mmaxrects\u001b[0m:\u001b[36mmaxrects_single_layer_online\u001b[0m:\u001b[36m138\u001b[0m - \u001b[34m\u001b[1mMR-SL-Online starting\u001b[0m\n",
      "\u001b[32m2023-05-26 14:36:26.425\u001b[0m | \u001b[34m\u001b[1mDEBUG   \u001b[0m | \u001b[36mmaxrects\u001b[0m:\u001b[36mmaxrects_single_layer_online\u001b[0m:\u001b[36m147\u001b[0m - \u001b[34m\u001b[1mMR-SL-Online 7 non-zero duals to place\u001b[0m\n",
      "\u001b[32m2023-05-26 14:36:26.429\u001b[0m | \u001b[34m\u001b[1mDEBUG   \u001b[0m | \u001b[36mmaxrects\u001b[0m:\u001b[36mmaxrects_single_layer_online\u001b[0m:\u001b[36m196\u001b[0m - \u001b[34m\u001b[1mMR-SL-Online generated a new layer with 6 superitems (of which 6 with non-zero dual) and 0.7693839391952599 3D density\u001b[0m\n",
      "\u001b[32m2023-05-26 14:36:26.431\u001b[0m | \u001b[34m\u001b[1mDEBUG   \u001b[0m | \u001b[36mmaxrects\u001b[0m:\u001b[36mmaxrects_single_layer_online\u001b[0m:\u001b[36m138\u001b[0m - \u001b[34m\u001b[1mMR-SL-Online starting\u001b[0m\n",
      "\u001b[32m2023-05-26 14:36:26.432\u001b[0m | \u001b[34m\u001b[1mDEBUG   \u001b[0m | \u001b[36mmaxrects\u001b[0m:\u001b[36mmaxrects_single_layer_online\u001b[0m:\u001b[36m147\u001b[0m - \u001b[34m\u001b[1mMR-SL-Online 4 non-zero duals to place\u001b[0m\n",
      "\u001b[32m2023-05-26 14:36:26.435\u001b[0m | \u001b[34m\u001b[1mDEBUG   \u001b[0m | \u001b[36mmaxrects\u001b[0m:\u001b[36mmaxrects_single_layer_online\u001b[0m:\u001b[36m196\u001b[0m - \u001b[34m\u001b[1mMR-SL-Online generated a new layer with 4 superitems (of which 4 with non-zero dual) and 0.6101357422112139 3D density\u001b[0m\n",
      "\u001b[32m2023-05-26 14:36:26.439\u001b[0m | \u001b[34m\u001b[1mDEBUG   \u001b[0m | \u001b[36mmaxrects\u001b[0m:\u001b[36mmaxrects_single_layer_online\u001b[0m:\u001b[36m138\u001b[0m - \u001b[34m\u001b[1mMR-SL-Online starting\u001b[0m\n",
      "\u001b[32m2023-05-26 14:36:26.441\u001b[0m | \u001b[34m\u001b[1mDEBUG   \u001b[0m | \u001b[36mmaxrects\u001b[0m:\u001b[36mmaxrects_single_layer_online\u001b[0m:\u001b[36m147\u001b[0m - \u001b[34m\u001b[1mMR-SL-Online 7 non-zero duals to place\u001b[0m\n",
      "\u001b[32m2023-05-26 14:36:26.445\u001b[0m | \u001b[34m\u001b[1mDEBUG   \u001b[0m | \u001b[36mmaxrects\u001b[0m:\u001b[36mmaxrects_single_layer_online\u001b[0m:\u001b[36m196\u001b[0m - \u001b[34m\u001b[1mMR-SL-Online generated a new layer with 7 superitems (of which 7 with non-zero dual) and 0.89937106918239 3D density\u001b[0m\n"
     ]
    },
    {
     "name": "stderr",
     "output_type": "stream",
     "text": [
      "\u001b[32m2023-05-26 14:36:26.447\u001b[0m | \u001b[34m\u001b[1mDEBUG   \u001b[0m | \u001b[36mmaxrects\u001b[0m:\u001b[36mmaxrects_single_layer_online\u001b[0m:\u001b[36m138\u001b[0m - \u001b[34m\u001b[1mMR-SL-Online starting\u001b[0m\n",
      "\u001b[32m2023-05-26 14:36:26.448\u001b[0m | \u001b[34m\u001b[1mDEBUG   \u001b[0m | \u001b[36mmaxrects\u001b[0m:\u001b[36mmaxrects_single_layer_online\u001b[0m:\u001b[36m147\u001b[0m - \u001b[34m\u001b[1mMR-SL-Online 5 non-zero duals to place\u001b[0m\n",
      "\u001b[32m2023-05-26 14:36:26.452\u001b[0m | \u001b[34m\u001b[1mDEBUG   \u001b[0m | \u001b[36mmaxrects\u001b[0m:\u001b[36mmaxrects_single_layer_online\u001b[0m:\u001b[36m196\u001b[0m - \u001b[34m\u001b[1mMR-SL-Online generated a new layer with 5 superitems (of which 5 with non-zero dual) and 0.5634171907756813 3D density\u001b[0m\n",
      "\u001b[32m2023-05-26 14:36:26.454\u001b[0m | \u001b[34m\u001b[1mDEBUG   \u001b[0m | \u001b[36mmaxrects\u001b[0m:\u001b[36mmaxrects_multiple_layers\u001b[0m:\u001b[36m17\u001b[0m - \u001b[34m\u001b[1mMR-ML-Offline starting\u001b[0m\n",
      "\u001b[32m2023-05-26 14:36:26.456\u001b[0m | \u001b[34m\u001b[1mDEBUG   \u001b[0m | \u001b[36mmaxrects\u001b[0m:\u001b[36mmaxrects_multiple_layers\u001b[0m:\u001b[36m18\u001b[0m - \u001b[34m\u001b[1mMR-ML-Offline not_used as warm_start\u001b[0m\n",
      "\u001b[32m2023-05-26 14:36:26.458\u001b[0m | \u001b[34m\u001b[1mDEBUG   \u001b[0m | \u001b[36mmaxrects\u001b[0m:\u001b[36mmaxrects_multiple_layers\u001b[0m:\u001b[36m19\u001b[0m - \u001b[34m\u001b[1mMR-ML-Offline 62 superitems to place\u001b[0m\n",
      "\u001b[32m2023-05-26 14:36:26.594\u001b[0m | \u001b[34m\u001b[1mDEBUG   \u001b[0m | \u001b[36mmaxrects\u001b[0m:\u001b[36mmaxrects_multiple_layers\u001b[0m:\u001b[36m74\u001b[0m - \u001b[34m\u001b[1mMR-ML-Offline generated 12 layers with 3D densities [0.7966457023060797, 0.7957296125997568, 0.7808596353940237, 0.7707472297094938, 0.7484298121764429, 0.7197535618020793, 0.7197535618020793, 0.711346642910442, 0.7110683267017499, 0.48959483164334916, 0.3912848158131177, 0.3912848158131177]\u001b[0m\n",
      "\u001b[32m2023-05-26 14:36:26.596\u001b[0m | \u001b[34m\u001b[1mDEBUG   \u001b[0m | \u001b[36mmaxrects\u001b[0m:\u001b[36mmaxrects_multiple_layers\u001b[0m:\u001b[36m77\u001b[0m - \u001b[34m\u001b[1mMR-ML-Offline placed 62/62 superitems\u001b[0m\n"
     ]
    },
    {
     "data": {
      "text/html": [
       "<div>\n",
       "<style scoped>\n",
       "    .dataframe tbody tr th:only-of-type {\n",
       "        vertical-align: middle;\n",
       "    }\n",
       "\n",
       "    .dataframe tbody tr th {\n",
       "        vertical-align: top;\n",
       "    }\n",
       "\n",
       "    .dataframe thead th {\n",
       "        text-align: right;\n",
       "    }\n",
       "</style>\n",
       "<table border=\"1\" class=\"dataframe\">\n",
       "  <thead>\n",
       "    <tr style=\"text-align: right;\">\n",
       "      <th></th>\n",
       "      <th>item</th>\n",
       "      <th>x</th>\n",
       "      <th>y</th>\n",
       "      <th>z</th>\n",
       "      <th>width</th>\n",
       "      <th>depth</th>\n",
       "      <th>height</th>\n",
       "      <th>layer</th>\n",
       "    </tr>\n",
       "  </thead>\n",
       "  <tbody>\n",
       "    <tr>\n",
       "      <th>0</th>\n",
       "      <td>185</td>\n",
       "      <td>0</td>\n",
       "      <td>0</td>\n",
       "      <td>0</td>\n",
       "      <td>700</td>\n",
       "      <td>290</td>\n",
       "      <td>490</td>\n",
       "      <td>0</td>\n",
       "    </tr>\n",
       "    <tr>\n",
       "      <th>1</th>\n",
       "      <td>195</td>\n",
       "      <td>0</td>\n",
       "      <td>0</td>\n",
       "      <td>490</td>\n",
       "      <td>700</td>\n",
       "      <td>290</td>\n",
       "      <td>490</td>\n",
       "      <td>0</td>\n",
       "    </tr>\n",
       "    <tr>\n",
       "      <th>2</th>\n",
       "      <td>193</td>\n",
       "      <td>0</td>\n",
       "      <td>290</td>\n",
       "      <td>0</td>\n",
       "      <td>700</td>\n",
       "      <td>290</td>\n",
       "      <td>490</td>\n",
       "      <td>0</td>\n",
       "    </tr>\n",
       "    <tr>\n",
       "      <th>3</th>\n",
       "      <td>196</td>\n",
       "      <td>0</td>\n",
       "      <td>290</td>\n",
       "      <td>490</td>\n",
       "      <td>700</td>\n",
       "      <td>290</td>\n",
       "      <td>490</td>\n",
       "      <td>0</td>\n",
       "    </tr>\n",
       "    <tr>\n",
       "      <th>4</th>\n",
       "      <td>191</td>\n",
       "      <td>0</td>\n",
       "      <td>580</td>\n",
       "      <td>0</td>\n",
       "      <td>700</td>\n",
       "      <td>290</td>\n",
       "      <td>490</td>\n",
       "      <td>0</td>\n",
       "    </tr>\n",
       "    <tr>\n",
       "      <th>...</th>\n",
       "      <td>...</td>\n",
       "      <td>...</td>\n",
       "      <td>...</td>\n",
       "      <td>...</td>\n",
       "      <td>...</td>\n",
       "      <td>...</td>\n",
       "      <td>...</td>\n",
       "      <td>...</td>\n",
       "    </tr>\n",
       "    <tr>\n",
       "      <th>199</th>\n",
       "      <td>80</td>\n",
       "      <td>670</td>\n",
       "      <td>0</td>\n",
       "      <td>0</td>\n",
       "      <td>530</td>\n",
       "      <td>290</td>\n",
       "      <td>700</td>\n",
       "      <td>29</td>\n",
       "    </tr>\n",
       "    <tr>\n",
       "      <th>200</th>\n",
       "      <td>125</td>\n",
       "      <td>0</td>\n",
       "      <td>0</td>\n",
       "      <td>0</td>\n",
       "      <td>670</td>\n",
       "      <td>390</td>\n",
       "      <td>670</td>\n",
       "      <td>30</td>\n",
       "    </tr>\n",
       "    <tr>\n",
       "      <th>201</th>\n",
       "      <td>135</td>\n",
       "      <td>0</td>\n",
       "      <td>390</td>\n",
       "      <td>0</td>\n",
       "      <td>670</td>\n",
       "      <td>390</td>\n",
       "      <td>670</td>\n",
       "      <td>30</td>\n",
       "    </tr>\n",
       "    <tr>\n",
       "      <th>202</th>\n",
       "      <td>126</td>\n",
       "      <td>0</td>\n",
       "      <td>0</td>\n",
       "      <td>0</td>\n",
       "      <td>670</td>\n",
       "      <td>390</td>\n",
       "      <td>670</td>\n",
       "      <td>31</td>\n",
       "    </tr>\n",
       "    <tr>\n",
       "      <th>203</th>\n",
       "      <td>134</td>\n",
       "      <td>0</td>\n",
       "      <td>390</td>\n",
       "      <td>0</td>\n",
       "      <td>670</td>\n",
       "      <td>390</td>\n",
       "      <td>670</td>\n",
       "      <td>31</td>\n",
       "    </tr>\n",
       "  </tbody>\n",
       "</table>\n",
       "<p>204 rows × 8 columns</p>\n",
       "</div>"
      ],
      "text/plain": [
       "     item    x    y    z  width  depth  height  layer\n",
       "0     185    0    0    0    700    290     490      0\n",
       "1     195    0    0  490    700    290     490      0\n",
       "2     193    0  290    0    700    290     490      0\n",
       "3     196    0  290  490    700    290     490      0\n",
       "4     191    0  580    0    700    290     490      0\n",
       "..    ...  ...  ...  ...    ...    ...     ...    ...\n",
       "199    80  670    0    0    530    290     700     29\n",
       "200   125    0    0    0    670    390     670     30\n",
       "201   135    0  390    0    670    390     670     30\n",
       "202   126    0    0    0    670    390     670     31\n",
       "203   134    0  390    0    670    390     670     31\n",
       "\n",
       "[204 rows x 8 columns]"
      ]
     },
     "execution_count": 8,
     "metadata": {},
     "output_type": "execute_result"
    },
    {
     "data": {
      "application/javascript": [
       "\n",
       "            setTimeout(function() {\n",
       "                var nbb_cell_id = 8;\n",
       "                var nbb_unformatted_code = \"bin_pool_para_ry3 = main.main(\\n    instance1_para_ry3,\\n    procedure=\\\"mr\\\",\\n    superitems_horizontal=False,\\n    superitems_max_vstacked=2,\\n    superitems_horizontal_type=\\\"two-width\\\",\\n)\\nbin_pool_para_ry3.get_original_layer_pool().to_dataframe()\";\n",
       "                var nbb_formatted_code = \"bin_pool_para_ry3 = main.main(\\n    instance1_para_ry3,\\n    procedure=\\\"mr\\\",\\n    superitems_horizontal=False,\\n    superitems_max_vstacked=2,\\n    superitems_horizontal_type=\\\"two-width\\\",\\n)\\nbin_pool_para_ry3.get_original_layer_pool().to_dataframe()\";\n",
       "                var nbb_cells = Jupyter.notebook.get_cells();\n",
       "                for (var i = 0; i < nbb_cells.length; ++i) {\n",
       "                    if (nbb_cells[i].input_prompt_number == nbb_cell_id) {\n",
       "                        if (nbb_cells[i].get_text() == nbb_unformatted_code) {\n",
       "                             nbb_cells[i].set_text(nbb_formatted_code);\n",
       "                        }\n",
       "                        break;\n",
       "                    }\n",
       "                }\n",
       "            }, 500);\n",
       "            "
      ],
      "text/plain": [
       "<IPython.core.display.Javascript object>"
      ]
     },
     "metadata": {},
     "output_type": "display_data"
    }
   ],
   "source": [
    "bin_pool_para_ry3 = main.main(\n",
    "    instance1_para_ry3,\n",
    "    procedure=\"mr\",\n",
    "    superitems_horizontal=False,\n",
    "    superitems_max_vstacked=2,\n",
    "    superitems_horizontal_type=\"two-width\",\n",
    ")\n",
    "bin_pool_para_ry3.get_original_layer_pool().to_dataframe()\n"
   ]
  },
  {
   "cell_type": "code",
   "execution_count": 9,
   "id": "73542e50",
   "metadata": {},
   "outputs": [
    {
     "name": "stdout",
     "output_type": "stream",
     "text": [
      "Number of bins used: 16\n"
     ]
    },
    {
     "data": {
      "application/javascript": [
       "\n",
       "            setTimeout(function() {\n",
       "                var nbb_cell_id = 9;\n",
       "                var nbb_unformatted_code = \"num_compact_bins_para_ry3 = bin_pool_para_ry3.compact_bins_num\\nprint(\\\"Number of bins used:\\\", num_compact_bins_para_ry3)\";\n",
       "                var nbb_formatted_code = \"num_compact_bins_para_ry3 = bin_pool_para_ry3.compact_bins_num\\nprint(\\\"Number of bins used:\\\", num_compact_bins_para_ry3)\";\n",
       "                var nbb_cells = Jupyter.notebook.get_cells();\n",
       "                for (var i = 0; i < nbb_cells.length; ++i) {\n",
       "                    if (nbb_cells[i].input_prompt_number == nbb_cell_id) {\n",
       "                        if (nbb_cells[i].get_text() == nbb_unformatted_code) {\n",
       "                             nbb_cells[i].set_text(nbb_formatted_code);\n",
       "                        }\n",
       "                        break;\n",
       "                    }\n",
       "                }\n",
       "            }, 500);\n",
       "            "
      ],
      "text/plain": [
       "<IPython.core.display.Javascript object>"
      ]
     },
     "metadata": {},
     "output_type": "display_data"
    }
   ],
   "source": [
    "num_compact_bins_para_ry3 = bin_pool_para_ry3.compact_bins_num\n",
    "print(\"Number of bins used:\", num_compact_bins_para_ry3)"
   ]
  },
  {
   "cell_type": "code",
   "execution_count": null,
   "id": "5b96ab70",
   "metadata": {},
   "outputs": [],
   "source": [
    "bin_para_ry3_df = bin_pool_para_ry3.get_original_layer_pool().to_dataframe()\n",
    "bin_para_ry3_df.to_csv('bin_para_ry3_layerResult.csv', index=False)\n"
   ]
  },
  {
   "cell_type": "code",
   "execution_count": 10,
   "id": "e92ec33c",
   "metadata": {},
   "outputs": [
    {
     "data": {
      "application/javascript": [
       "\n",
       "            setTimeout(function() {\n",
       "                var nbb_cell_id = 10;\n",
       "                var nbb_unformatted_code = \"bin_para_ry3_bindf = bin_pool_para_ry3.get_original_bin_pool().to_dataframe()\\nbin_para_ry3_bindf.to_csv(\\\"bin_para_ry3_binResult.csv\\\", index=False)\";\n",
       "                var nbb_formatted_code = \"bin_para_ry3_bindf = bin_pool_para_ry3.get_original_bin_pool().to_dataframe()\\nbin_para_ry3_bindf.to_csv(\\\"bin_para_ry3_binResult.csv\\\", index=False)\";\n",
       "                var nbb_cells = Jupyter.notebook.get_cells();\n",
       "                for (var i = 0; i < nbb_cells.length; ++i) {\n",
       "                    if (nbb_cells[i].input_prompt_number == nbb_cell_id) {\n",
       "                        if (nbb_cells[i].get_text() == nbb_unformatted_code) {\n",
       "                             nbb_cells[i].set_text(nbb_formatted_code);\n",
       "                        }\n",
       "                        break;\n",
       "                    }\n",
       "                }\n",
       "            }, 500);\n",
       "            "
      ],
      "text/plain": [
       "<IPython.core.display.Javascript object>"
      ]
     },
     "metadata": {},
     "output_type": "display_data"
    }
   ],
   "source": [
    "bin_para_ry3_bindf = bin_pool_para_ry3.get_original_bin_pool().to_dataframe()\n",
    "bin_para_ry3_bindf.to_csv(\"bin_para_ry3_binResult.csv\", index=False)"
   ]
  },
  {
   "cell_type": "code",
   "execution_count": 11,
   "id": "1a65b236",
   "metadata": {},
   "outputs": [
    {
     "data": {
      "application/javascript": [
       "\n",
       "            setTimeout(function() {\n",
       "                var nbb_cell_id = 11;\n",
       "                var nbb_unformatted_code = \"bin_para_ry3_bindesdf = bin_pool_para_ry3.get_original_bin_pool().describe()\\nbin_para_ry3_bindesdf.to_csv(\\\"bin_para_ry3_binResultDes.csv\\\", index=False)\";\n",
       "                var nbb_formatted_code = \"bin_para_ry3_bindesdf = bin_pool_para_ry3.get_original_bin_pool().describe()\\nbin_para_ry3_bindesdf.to_csv(\\\"bin_para_ry3_binResultDes.csv\\\", index=False)\";\n",
       "                var nbb_cells = Jupyter.notebook.get_cells();\n",
       "                for (var i = 0; i < nbb_cells.length; ++i) {\n",
       "                    if (nbb_cells[i].input_prompt_number == nbb_cell_id) {\n",
       "                        if (nbb_cells[i].get_text() == nbb_unformatted_code) {\n",
       "                             nbb_cells[i].set_text(nbb_formatted_code);\n",
       "                        }\n",
       "                        break;\n",
       "                    }\n",
       "                }\n",
       "            }, 500);\n",
       "            "
      ],
      "text/plain": [
       "<IPython.core.display.Javascript object>"
      ]
     },
     "metadata": {},
     "output_type": "display_data"
    }
   ],
   "source": [
    "bin_para_ry3_bindesdf = bin_pool_para_ry3.get_original_bin_pool().describe()\n",
    "bin_para_ry3_bindesdf.to_csv(\"bin_para_ry3_binResultDes.csv\", index=False)"
   ]
  },
  {
   "cell_type": "code",
   "execution_count": null,
   "id": "b4df0b7f",
   "metadata": {},
   "outputs": [],
   "source": []
  },
  {
   "cell_type": "code",
   "execution_count": null,
   "id": "667c3c41",
   "metadata": {},
   "outputs": [],
   "source": []
  },
  {
   "cell_type": "code",
   "execution_count": null,
   "id": "ccb1caa9",
   "metadata": {},
   "outputs": [],
   "source": []
  },
  {
   "cell_type": "code",
   "execution_count": null,
   "id": "c9656b3b",
   "metadata": {},
   "outputs": [],
   "source": []
  },
  {
   "cell_type": "markdown",
   "id": "5f672a48",
   "metadata": {},
   "source": [
    "**旋转扰动**"
   ]
  },
  {
   "cell_type": "markdown",
   "id": "5b758417",
   "metadata": {},
   "source": [
    "*30%Y*"
   ]
  },
  {
   "cell_type": "code",
   "execution_count": null,
   "id": "6bba493c",
   "metadata": {},
   "outputs": [],
   "source": [
    "def swap_values(group):\n",
    "    n_samples = int(\n",
    "        len(group) * 0.3\n",
    "    )  # calculate number of samples based on 30% threshold\n",
    "    idx_samples = group.sample(n_samples).index  # select random indices from the group\n",
    "    group.loc[idx_samples, [\"width\", \"height\"]] = group.loc[\n",
    "        idx_samples, [\"height\", \"width\"]\n",
    "    ].values  # exchange values of selected items\n",
    "    return group\n",
    "\n",
    "\n",
    "# group the data by `id` column and apply the `swap_values()` function\n",
    "instance1_ry3_g = instance1.groupby(\"id\").apply(swap_values)\n",
    "instance1_ry3 = instance1_ry3_g.reset_index(drop=True)\n",
    "\n",
    "# print the results\n",
    "print(instance1_ry3)"
   ]
  },
  {
   "cell_type": "code",
   "execution_count": null,
   "id": "aa863b75",
   "metadata": {},
   "outputs": [],
   "source": [
    "plt.figure()\n",
    "axW3 = sns.histplot(\n",
    "    instance1_ry3.depth / instance1_ry3.width,\n",
    "    bins=np.arange(0, 2, 0.05),\n",
    ")\n",
    "axW3.set(xlabel=\"WIDTH-LENGTH RATIO\")\n",
    "plt.show()"
   ]
  },
  {
   "cell_type": "code",
   "execution_count": null,
   "id": "fc7d9e36",
   "metadata": {},
   "outputs": [],
   "source": [
    "plt.figure()\n",
    "axH3 = sns.histplot(\n",
    "    instance1_ry3.height / instance1_ry3.width,\n",
    "    bins=np.arange(0, 2, 0.05),\n",
    ")\n",
    "axH3.set(xlabel=\"HEIGHT-LENGTH RATIO\")\n",
    "plt.show()"
   ]
  },
  {
   "cell_type": "markdown",
   "id": "e6c85b1c",
   "metadata": {},
   "source": [
    "*50%Y*"
   ]
  },
  {
   "cell_type": "code",
   "execution_count": null,
   "id": "b28417eb",
   "metadata": {},
   "outputs": [],
   "source": [
    "perc = 0.5\n",
    "\n",
    "\n",
    "def swap_values(group):\n",
    "    n_samples = int(\n",
    "        len(group) * perc\n",
    "    )  # calculate number of samples based on 30% threshold\n",
    "    idx_samples = group.sample(n_samples).index  # select random indices from the group\n",
    "    group.loc[idx_samples, [\"width\", \"height\"]] = group.loc[\n",
    "        idx_samples, [\"height\", \"width\"]\n",
    "    ].values  # exchange values of selected items\n",
    "    return group\n",
    "\n",
    "\n",
    "# group the data by `id` column and apply the `swap_values()` function\n",
    "instance1_ry5_g = instance1.groupby(\"id\").apply(swap_values)\n",
    "instance1_ry5 = instance1_ry5_g.reset_index(drop=True)\n",
    "\n",
    "# print the results\n",
    "print(instance1_ry5)"
   ]
  },
  {
   "cell_type": "markdown",
   "id": "43fbf579",
   "metadata": {},
   "source": [
    "**装箱运算**"
   ]
  },
  {
   "cell_type": "markdown",
   "id": "ef062791",
   "metadata": {},
   "source": [
    "*0%Y*"
   ]
  },
  {
   "cell_type": "code",
   "execution_count": null,
   "id": "53555a2b",
   "metadata": {},
   "outputs": [],
   "source": [
    "bin_pool_npt = main.main(\n",
    "    instance1,\n",
    "    procedure=\"mr\",\n",
    "    superitems_horizontal=False,\n",
    "    superitems_max_vstacked=2,\n",
    "    superitems_horizontal_type=\"two-width\",\n",
    ")\n",
    "bin_pool_npt.get_original_layer_pool().to_dataframe()\n",
    "# really banned horizontal"
   ]
  },
  {
   "cell_type": "code",
   "execution_count": null,
   "id": "0c39f495",
   "metadata": {},
   "outputs": [],
   "source": [
    "num_compact_bins_npt = bin_pool_npt.compact_bins_num\n",
    "print(\"Number of bins used:\", num_compact_bins_npt)"
   ]
  },
  {
   "cell_type": "code",
   "execution_count": null,
   "id": "46536a57",
   "metadata": {},
   "outputs": [],
   "source": [
    "bin_pool_npt.get_original_bin_pool().describe()"
   ]
  },
  {
   "cell_type": "code",
   "execution_count": null,
   "id": "d21ac805",
   "metadata": {},
   "outputs": [],
   "source": [
    "bin_pool_npt.get_original_layer_pool().describe()"
   ]
  },
  {
   "cell_type": "code",
   "execution_count": null,
   "id": "2beb2462",
   "metadata": {},
   "outputs": [],
   "source": [
    "bin_pool_npt.get_original_bin_pool().plot()"
   ]
  },
  {
   "cell_type": "code",
   "execution_count": null,
   "id": "b6c3b745",
   "metadata": {},
   "outputs": [],
   "source": []
  },
  {
   "cell_type": "markdown",
   "id": "aa93dce6",
   "metadata": {},
   "source": [
    "*30%Y*"
   ]
  },
  {
   "cell_type": "code",
   "execution_count": null,
   "id": "04b13c57",
   "metadata": {},
   "outputs": [],
   "source": [
    "bin_pool_ry3 = main.main(\n",
    "    instance1_ry3,\n",
    "    procedure=\"mr\",\n",
    "    superitems_horizontal=False,\n",
    "    superitems_max_vstacked=2,\n",
    "    superitems_horizontal_type=\"two-width\",\n",
    ")\n",
    "bin_pool_ry3.get_original_layer_pool().to_dataframe()\n"
   ]
  },
  {
   "cell_type": "code",
   "execution_count": null,
   "id": "bd96959d",
   "metadata": {},
   "outputs": [],
   "source": [
    "num_compact_bins_ry3 = bin_pool_ry3.compact_bins_num\n",
    "print(\"Number of bins used:\", num_compact_bins_ry3)"
   ]
  },
  {
   "cell_type": "code",
   "execution_count": null,
   "id": "8e694bb0",
   "metadata": {},
   "outputs": [],
   "source": [
    "bin_pool_ry3.get_original_bin_pool().describe()"
   ]
  },
  {
   "cell_type": "code",
   "execution_count": null,
   "id": "4eb3b9db",
   "metadata": {},
   "outputs": [],
   "source": [
    "bin_pool_ry3.get_original_layer_pool().describe()"
   ]
  },
  {
   "cell_type": "code",
   "execution_count": null,
   "id": "dbd4eeb2",
   "metadata": {},
   "outputs": [],
   "source": []
  },
  {
   "cell_type": "markdown",
   "id": "c4e65e2a",
   "metadata": {},
   "source": [
    "*50%Y*"
   ]
  },
  {
   "cell_type": "code",
   "execution_count": null,
   "id": "1d98d06f",
   "metadata": {},
   "outputs": [],
   "source": [
    "bin_pool_ry5 = main.main(\n",
    "    instance1_ry5,\n",
    "    procedure=\"mr\",\n",
    "    superitems_horizontal=False,\n",
    "    superitems_max_vstacked=2,\n",
    "    superitems_horizontal_type=\"two-width\",\n",
    ")\n",
    "bin_pool_ry5.get_original_layer_pool().to_dataframe()\n"
   ]
  },
  {
   "cell_type": "code",
   "execution_count": null,
   "id": "0187d7c7",
   "metadata": {},
   "outputs": [],
   "source": [
    "num_compact_bins_ry5 = bin_pool_ry5.compact_bins_num\n",
    "print(\"Number of bins used:\", num_compact_bins_ry5)"
   ]
  },
  {
   "cell_type": "code",
   "execution_count": null,
   "id": "b7ec9613",
   "metadata": {},
   "outputs": [],
   "source": [
    "bin_pool_ry5.get_original_bin_pool().describe()"
   ]
  },
  {
   "cell_type": "code",
   "execution_count": null,
   "id": "73f869cc",
   "metadata": {},
   "outputs": [],
   "source": []
  },
  {
   "cell_type": "markdown",
   "id": "e75e52a8",
   "metadata": {},
   "source": [
    "**记录结果**"
   ]
  },
  {
   "cell_type": "code",
   "execution_count": null,
   "id": "68ada5fe",
   "metadata": {},
   "outputs": [],
   "source": [
    "bin_pool_npt.plot()"
   ]
  },
  {
   "cell_type": "code",
   "execution_count": null,
   "id": "a32b1cba",
   "metadata": {},
   "outputs": [],
   "source": [
    "bin_pool_ry3.plot()"
   ]
  },
  {
   "cell_type": "code",
   "execution_count": null,
   "id": "e2da53f8",
   "metadata": {},
   "outputs": [],
   "source": [
    "bin_ry3_df = bin_pool_ry3.get_original_layer_pool().to_dataframe()\n",
    "bin_ry3_df.to_csv('bin_ry3_layerResult.csv', index=False)\n"
   ]
  },
  {
   "cell_type": "code",
   "execution_count": null,
   "id": "a113da88",
   "metadata": {},
   "outputs": [],
   "source": [
    "bin_ry3_bindf = bin_pool_ry3.get_original_bin_pool().to_dataframe()\n",
    "bin_ry3_bindf.to_csv(\"bin_ry3_binResult.csv\", index=False)"
   ]
  },
  {
   "cell_type": "code",
   "execution_count": null,
   "id": "b7b1c301",
   "metadata": {},
   "outputs": [],
   "source": [
    "bin_ry3_bindesdf = bin_pool_ry3.get_original_bin_pool().describe()\n",
    "bin_ry3_bindesdf.to_csv(\"bin_ry3_binResultDes.csv\", index=False)"
   ]
  },
  {
   "cell_type": "code",
   "execution_count": null,
   "id": "50718d07",
   "metadata": {},
   "outputs": [],
   "source": [
    "bin_npt_df = bin_pool_npt.get_original_layer_pool().to_dataframe()\n",
    "bin_npt_df.to_csv('bin_npt_layerResult.csv', index=False)\n"
   ]
  },
  {
   "cell_type": "code",
   "execution_count": null,
   "id": "ab3a968c",
   "metadata": {},
   "outputs": [],
   "source": [
    "bin_npt_bindf = bin_pool_npt.get_original_bin_pool().to_dataframe()\n",
    "bin_npt_bindf.to_csv(\"bin_npt_binResult.csv\", index=False)"
   ]
  },
  {
   "cell_type": "code",
   "execution_count": null,
   "id": "4a5d8c5e",
   "metadata": {},
   "outputs": [],
   "source": [
    "bin_npt_bindesdf = bin_pool_npt.get_original_bin_pool().describe()\n",
    "bin_npt_bindesdf.to_csv(\"bin_npt_binResultDes.csv\", index=False)"
   ]
  },
  {
   "cell_type": "code",
   "execution_count": null,
   "id": "30805d02",
   "metadata": {},
   "outputs": [],
   "source": []
  },
  {
   "cell_type": "code",
   "execution_count": null,
   "id": "e492751d",
   "metadata": {},
   "outputs": [],
   "source": [
    "bin_ry5_df = bin_pool_ry5.get_original_layer_pool().to_dataframe()\n",
    "bin_ry5_df.to_csv('bin_ry5_layerResult.csv', index=False)\n"
   ]
  },
  {
   "cell_type": "code",
   "execution_count": null,
   "id": "126829b8",
   "metadata": {},
   "outputs": [],
   "source": [
    "bin_ry5_bindf = bin_pool_ry5.get_original_bin_pool().to_dataframe()\n",
    "bin_ry5_bindf.to_csv(\"bin_ry5_binResult.csv\", index=False)"
   ]
  },
  {
   "cell_type": "code",
   "execution_count": null,
   "id": "376296ed",
   "metadata": {},
   "outputs": [],
   "source": [
    "bin_ry5_bindesdf = bin_pool_ry5.get_original_bin_pool().describe()\n",
    "bin_ry5_bindesdf.to_csv(\"bin_ry5_binResultDes.csv\", index=False)"
   ]
  },
  {
   "cell_type": "code",
   "execution_count": null,
   "id": "95c1d33b",
   "metadata": {},
   "outputs": [],
   "source": []
  }
 ],
 "metadata": {
  "kernelspec": {
   "display_name": "Python [conda env:tspy38] *",
   "language": "python",
   "name": "conda-env-tspy38-py"
  },
  "language_info": {
   "codemirror_mode": {
    "name": "ipython",
    "version": 3
   },
   "file_extension": ".py",
   "mimetype": "text/x-python",
   "name": "python",
   "nbconvert_exporter": "python",
   "pygments_lexer": "ipython3",
   "version": "3.8.16"
  }
 },
 "nbformat": 4,
 "nbformat_minor": 5
}
